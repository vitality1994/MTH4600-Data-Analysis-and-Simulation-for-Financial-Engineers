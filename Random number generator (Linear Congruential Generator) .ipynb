{
 "cells": [
  {
   "cell_type": "code",
   "execution_count": null,
   "metadata": {},
   "outputs": [],
   "source": [
    "# 2.2.2021 \n",
    "# MTH4600 (Data Analysis and Simulation for Financial Engineers)"
   ]
  },
  {
   "cell_type": "code",
   "execution_count": 1,
   "metadata": {},
   "outputs": [
    {
     "name": "stdout",
     "output_type": "stream",
     "text": [
      "4294967295\n"
     ]
    }
   ],
   "source": [
    "# The largest unsigned integer(positive integer) and unsigned long integer \n",
    "# of the 32 bit (a bit is a 0 or 1) integer is\n",
    "\n",
    "a = 0\n",
    "for x in range(32):\n",
    "    a += 2**x\n",
    "    \n",
    "print(a)"
   ]
  },
  {
   "cell_type": "code",
   "execution_count": 112,
   "metadata": {},
   "outputs": [
    {
     "name": "stdout",
     "output_type": "stream",
     "text": [
      "2\n"
     ]
    },
    {
     "data": {
      "image/png": "[encoded data removed]",
      "text/plain": [
       "<Figure size 432x288 with 1 Axes>"
      ]
     },
     "metadata": {
      "needs_background": "light"
     },
     "output_type": "display_data"
    }
   ],
   "source": [
    "#linear Congruential Generators (LCGs)\n",
    "# h(n) = (an + c) mod m\n",
    "# m = 2^23, c = 1, a = 22,695,477\n",
    "# maximal perios is same as m\n",
    "\n",
    "seed = int(input())\n",
    "U_list = []\n",
    "for x in range(10000): # generate 1000000 integers\n",
    "    U_list.append((seed+0.5)/2**32)\n",
    "    seed = (22695477*seed + 1) % (2**32)\n",
    "    \n",
    "import matplotlib.pyplot as plt\n",
    "plt.hist(U_list)\n",
    "plt.show()\n",
    "\n",
    "# we can see 'U's are uniformly distributed.  "
   ]
  }
 ],
 "metadata": {
  "kernelspec": {
   "display_name": "Python 3",
   "language": "python",
   "name": "python3"
  },
  "language_info": {
   "codemirror_mode": {
    "name": "ipython",
    "version": 3
   },
   "file_extension": ".py",
   "mimetype": "text/x-python",
   "name": "python",
   "nbconvert_exporter": "python",
   "pygments_lexer": "ipython3",
   "version": "3.7.4"
  }
 },
 "nbformat": 4,
 "nbformat_minor": 2
}
